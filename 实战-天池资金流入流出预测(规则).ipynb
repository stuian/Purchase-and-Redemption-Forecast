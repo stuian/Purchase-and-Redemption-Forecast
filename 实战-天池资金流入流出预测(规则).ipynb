{
 "cells": [
  {
   "cell_type": "markdown",
   "id": "62c0cccf",
   "metadata": {},
   "source": [
    "# 实战-天池资金流入流出预测(规则法)"
   ]
  },
  {
   "cell_type": "markdown",
   "id": "fea15315",
   "metadata": {},
   "source": [
    "## 导入数据"
   ]
  },
  {
   "cell_type": "code",
   "execution_count": null,
   "id": "698cebd3",
   "metadata": {},
   "outputs": [],
   "source": [
    "import pandas as pd\n",
    "import numpy as np\n",
    "import datetime\n",
    "import matplotlib.pyplot as plt"
   ]
  },
  {
   "cell_type": "code",
   "execution_count": null,
   "id": "5064b88d",
   "metadata": {},
   "outputs": [],
   "source": [
    "###### Load the balance data\n",
    "def load_data(path: str = '../PurchaseRedemptionData/user_balance_table.csv')->pd.DataFrame:\n",
    "    data_balance = pd.read_csv(path)\n",
    "    data_balance = add_timestamp(data_balance)\n",
    "    return data_balance.reset_index(drop=True)\n",
    "    \n",
    "\n",
    "# add tiemstamp to dataset\n",
    "def add_timestamp(data: pd.DataFrame, time_index: str = 'report_date')->pd.DataFrame:\n",
    "    data_balance = data.copy()\n",
    "    data_balance['date'] = pd.to_datetime(data_balance[time_index], format= \"%Y%m%d\")\n",
    "    data_balance['day'] = data_balance['date'].dt.day\n",
    "    data_balance['month'] = data_balance['date'].dt.month\n",
    "    data_balance['year'] = data_balance['date'].dt.year\n",
    "    data_balance['week'] = data_balance['date'].dt.week\n",
    "    data_balance['weekday'] = data_balance['date'].dt.weekday\n",
    "    return data_balance.reset_index(drop=True)\n",
    "\n",
    "# total amount\n",
    "def get_total_balance(data: pd.DataFrame, date: str = '2014-03-31')->pd.DataFrame:\n",
    "    df_tmp = data.copy()\n",
    "    df_tmp = df_tmp.groupby(['date'])['total_purchase_amt','total_redeem_amt'].sum()\n",
    "    df_tmp.reset_index(inplace=True)\n",
    "    return df_tmp[(df_tmp['date']>= date)].reset_index(drop=True)\n",
    "\n",
    "# Generate the test data\n",
    "def generate_test_data(data: pd.DataFrame)->pd.DataFrame:\n",
    "    total_balance = data.copy()\n",
    "    start = datetime.datetime(2014,9,1)\n",
    "    testdata = []\n",
    "    while start != datetime.datetime(2014,10,15):\n",
    "        temp = [start, np.nan, np.nan]\n",
    "        testdata.append(temp)\n",
    "        start += datetime.timedelta(days = 1)\n",
    "    testdata = pd.DataFrame(testdata)\n",
    "    testdata.columns = total_balance.columns\n",
    "\n",
    "    total_balance = pd.concat([total_balance, testdata], axis = 0)\n",
    "    total_balance = total_balance.reset_index(drop=True)\n",
    "    return total_balance.reset_index(drop=True)\n",
    "\n",
    "# Load user's information\n",
    "def load_user_information(path: str = '../PurchaseRedemptionData/user_profile_table.csv')->pd.DataFrame:\n",
    "    return pd.read_csv(path)"
   ]
  },
  {
   "cell_type": "code",
   "execution_count": null,
   "id": "d67824fd",
   "metadata": {},
   "outputs": [],
   "source": [
    "balance_data = load_data('./PurchaseRedemptionData/user_balance_table.csv')\n",
    "balance_data = add_timestamp(balance_data)\n",
    "total_balance = get_total_balance(balance_data, date = '2014-03-01')\n",
    "total_balance = generate_test_data(total_balance)\n",
    "total_balance = add_timestamp(total_balance, 'date')"
   ]
  },
  {
   "cell_type": "code",
   "execution_count": null,
   "id": "eaa5204f",
   "metadata": {},
   "outputs": [],
   "source": [
    "pred = total_balance[(total_balance['date'].dt.date > datetime.date(2014,8,31)) & (total_balance['date'].dt.date <= datetime.date(2014,9,30))]\n",
    "pred['weekday'] = pred['date'].dt.weekday + 1\n",
    "pred.head()"
   ]
  },
  {
   "cell_type": "code",
   "execution_count": null,
   "id": "765e0347",
   "metadata": {},
   "outputs": [],
   "source": [
    "df_temp = total_balance.copy()\n",
    "df_temp_train = df_temp[(df_temp['date'].dt.date >= datetime.date(2014,3,31)) & (df_temp['date'].dt.date <= datetime.date(2014,8,31))]\n",
    "# df_temp_test = df_temp[(df_temp['date'].dt.date > datetime.date(2014,8,3)) & (df_temp['date'].dt.date <= datetime.date(2014,8,31))]   "
   ]
  },
  {
   "cell_type": "code",
   "execution_count": null,
   "id": "57d5c6e6",
   "metadata": {},
   "outputs": [],
   "source": [
    "df_temp_train.head(10)"
   ]
  },
  {
   "cell_type": "code",
   "execution_count": null,
   "id": "500fa52f",
   "metadata": {},
   "outputs": [],
   "source": [
    "df_temp_train.reset_index(inplace=True)\n",
    "# df_temp_test.reset_index(inplace=True)"
   ]
  },
  {
   "cell_type": "code",
   "execution_count": null,
   "id": "416a58a4",
   "metadata": {},
   "outputs": [],
   "source": [
    "del df_temp_train['index']\n",
    "# del df_temp_test['index']"
   ]
  },
  {
   "cell_type": "code",
   "execution_count": null,
   "id": "2c2f2b39",
   "metadata": {},
   "outputs": [],
   "source": [
    "pred = pd.DataFrame(columns = ['report_date','purchase','redeem'])\n",
    "pred['report_date'] = [\"2014-08-04\",\"2014-08-05\",\"2014-08-06\",\"2014-08-07\",\"2014-08-08\",\"2014-08-09\",\"2014-08-10\",\"2014-08-11\",\"2014-08-12\",\n",
    "                      \"2014-08-13\",\"2014-08-14\",\"2014-08-15\",\"2014-08-16\",\"2014-08-17\",\"2014-08-18\",\"2014-08-19\",\"2014-08-20\",\"2014-08-21\",\n",
    "                       \"2014-08-22\",\"2014-08-23\",\"2014-08-24\",\"2014-08-25\",\"2014-08-26\",\"2014-08-27\",\"2014-08-28\",\"2014-08-29\",\"2014-08-30\",\"2014-08-31\"]\n",
    "pred['purchase'] = df_temp_test['total_purchase_amt']\n",
    "pred['redeem'] = df_temp_test['total_redeem_amt']\n",
    "pred['report_date'] = pd.to_datetime(pred['report_date'])\n",
    "pred['weekday'] = pred['report_date'].dt.weekday + 1"
   ]
  },
  {
   "cell_type": "code",
   "execution_count": null,
   "id": "17afa364",
   "metadata": {},
   "outputs": [],
   "source": [
    "df_purchase = pd.DataFrame(columns=['weekday1','weekday2','weekday3','weekday4','weekday5','weekday6','weekday7'])\n",
    "\n",
    "count = 0\n",
    "for i in range(len(df_temp_train)):\n",
    "    df_purchase.loc[count,'weekday'+str(df_temp_train.loc[i,'weekday']+1)] = df_temp_train.loc[i,'total_purchase_amt']\n",
    "    if df_temp_train.loc[i,'weekday'] == 6:\n",
    "        count = count + 1"
   ]
  },
  {
   "cell_type": "code",
   "execution_count": null,
   "id": "b7bd1044",
   "metadata": {},
   "outputs": [],
   "source": [
    "df_purchase.head()"
   ]
  },
  {
   "cell_type": "code",
   "execution_count": null,
   "id": "ed95f221",
   "metadata": {},
   "outputs": [],
   "source": [
    "df_redeem = pd.DataFrame(columns=['weekday1','weekday2','weekday3','weekday4','weekday5','weekday6','weekday7'])\n",
    "\n",
    "count = 0\n",
    "for i in range(len(df_temp_train)):\n",
    "    df_redeem.loc[count,'weekday'+str(df_temp_train.loc[i,'weekday']+1)] = df_temp_train.loc[i,'total_redeem_amt']\n",
    "    if df_temp_train.loc[i,'weekday'] == 6:\n",
    "        count = count + 1"
   ]
  },
  {
   "cell_type": "code",
   "execution_count": null,
   "id": "44e1f2a8",
   "metadata": {},
   "outputs": [],
   "source": [
    "df_redeem.head()"
   ]
  },
  {
   "cell_type": "markdown",
   "id": "298b5b1f",
   "metadata": {},
   "source": [
    "## 中位数"
   ]
  },
  {
   "cell_type": "code",
   "execution_count": null,
   "id": "814921ba",
   "metadata": {},
   "outputs": [],
   "source": [
    "df_purchase_median = df_purchase.median()\n",
    "df_redeem_median = df_redeem.median()\n",
    "\n",
    "for i in range(7):\n",
    "    pred.loc[pred['weekday']==i+1,'purchaseMedian'] = df_purchase_median[i]\n",
    "\n",
    "for i in range(7):\n",
    "    pred.loc[pred['weekday']==i+1,'redeemMedian'] = df_redeem_median[i]"
   ]
  },
  {
   "cell_type": "code",
   "execution_count": null,
   "id": "085eee1a",
   "metadata": {},
   "outputs": [],
   "source": [
    "pred.head()"
   ]
  },
  {
   "cell_type": "markdown",
   "id": "ea9b5bc6",
   "metadata": {},
   "source": [
    "## 周期因子"
   ]
  },
  {
   "cell_type": "code",
   "execution_count": null,
   "id": "f0a0a11f",
   "metadata": {},
   "outputs": [],
   "source": [
    "# 第一种计算方式\n",
    "def predictByWeekdayFactor(df_,weekId):\n",
    "    df_['week_mean'] = df_.mean(axis=1)\n",
    "    \n",
    "    for i in range(7):\n",
    "        df_['weekday'+str(i+1)+'_coefficient'] = df_['weekday'+str(i+1)]/df_['week_mean']\n",
    "    \n",
    "    coefficient_list = ['weekday1_coefficient','weekday2_coefficient','weekday3_coefficient','weekday4_coefficient','weekday5_coefficient','weekday6_coefficient','weekday7_coefficient']\n",
    "    \n",
    "    weekday_rate = df_[coefficient_list].median()\n",
    "    \n",
    "    base = np.array(df_.loc[weekId,['weekday1','weekday2','weekday3','weekday4','weekday5','weekday6','weekday7']]) * 1 / np.array(df_[coefficient_list].median())\n",
    "            \n",
    "    Pre = np.mean(base) * np.array([weekday_rate])\n",
    "                     \n",
    "    return Pre"
   ]
  },
  {
   "cell_type": "code",
   "execution_count": null,
   "id": "d55ffbf3",
   "metadata": {},
   "outputs": [],
   "source": [
    "trade_weekday = df_temp_train.groupby(['weekday'])['total_purchase_amt','total_redeem_amt'].mean()\n",
    "trade_weekday.reset_index(inplace=True)\n",
    "\n",
    "purchase_mean = np.mean(df_temp_train['total_purchase_amt'])\n",
    "redeem_mean = np.mean(df_temp_train['total_redeem_amt'])\n",
    "\n",
    "purchase_weekday_rate_2 = trade_weekday['total_purchase_amt']/purchase_mean\n",
    "redeem_weekday_rate_2 = trade_weekday['total_redeem_amt']/redeem_mean\n",
    "\n",
    "basePurchase_2 = np.mean(df_purchase.loc[len(df_purchase)-1,['weekday1','weekday2','weekday3',\n",
    "                                                           'weekday4','weekday5','weekday6','weekday7']]*1/np.array(purchase_weekday_rate_2))\n",
    "purchasePre_2 = basePurchase_2 * purchase_weekday_rate_2\n",
    "\n",
    "baseRedeem_2 = np.mean(df_redeem.loc[len(df_redeem)-1,['weekday1','weekday2','weekday3',\n",
    "                                                           'weekday4','weekday5','weekday6','weekday7']]*1/np.array(redeem_weekday_rate_2))\n",
    "redeemPre_2 = baseRedeem_2 * redeem_weekday_rate_2"
   ]
  },
  {
   "cell_type": "code",
   "execution_count": null,
   "id": "6a5ff7a3",
   "metadata": {
    "scrolled": true
   },
   "outputs": [],
   "source": [
    "def predictByMonthDayFactor(df_,purchase_weekday_rate,redeem_weekday_rate):\n",
    "    trade_day = df_.groupby(['day'])['total_purchase_amt','total_redeem_amt'].mean()\n",
    "    trade_day.reset_index(inplace=True)\n",
    "    \n",
    "    for i in range(7):\n",
    "        trade_day['weekday'+str(i+1)] = 0\n",
    "        \n",
    "    trade_day['purchase_day_rate'] = 0\n",
    "    trade_day['redeem_day_rate'] = 0\n",
    "    \n",
    "    # 求1号至30号处于星期1到星期日的频次\n",
    "    for i in range(31):\n",
    "        for j in range(7):\n",
    "            trade_day.loc[i,'weekday'+str(j+1)] = sum((df_['day']==i+1)&(df_['weekday']==j+1))\n",
    "    \n",
    "    for i in range(31):\n",
    "        trade_day.loc[i,'purchase_day_rate'] = sum(np.array(purchase_weekday_rate)*np.array(trade_day.loc[i,['weekday1','weekday2','weekday3',\n",
    "                                                           'weekday4','weekday5','weekday6','weekday7']]))/sum(trade_day.loc[i,['weekday1','weekday2','weekday3',\n",
    "                                                           'weekday4','weekday5','weekday6','weekday7']])\n",
    "        trade_day.loc[i,'redeem_day_rate'] = sum(np.array(redeem_weekday_rate)*np.array(trade_day.loc[i,['weekday1','weekday2','weekday3',\n",
    "                                                           'weekday4','weekday5','weekday6','weekday7']]))/sum(trade_day.loc[i,['weekday1','weekday2','weekday3',\n",
    "                                                           'weekday4','weekday5','weekday6','weekday7']])\n",
    "        \n",
    "    trade_day['purchasePre'] = trade_day['total_purchase_amt']/trade_day['purchase_day_rate'] # 均值除以加权后的周期因子,得到去周期化的均值\n",
    "    trade_day['redeemPre'] = trade_day['total_redeem_amt']/trade_day['redeem_day_rate']\n",
    "    \n",
    "    return trade_day\n",
    "\n",
    "trade_day = predictByMonthDayFactor(df_temp_train,purchase_weekday_rate_2,redeem_weekday_rate_2)\n",
    "\n",
    "pred['day'] = pred['date'].dt.day\n",
    "pred = pd.merge(pred,trade_day[['day','purchasePre','redeemPre']])\n",
    "\n",
    "for i in range(len(pred)):\n",
    "    pred.loc[i,'purchasePre'] = pred.loc[i,'purchasePre'] * purchase_weekday_rate_2[pred.loc[i,'weekday']-1]\n",
    "    pred.loc[i,'redeemPre'] = pred.loc[i,'redeemPre'] * redeem_weekday_rate_2[pred.loc[i,'weekday']-1]"
   ]
  },
  {
   "cell_type": "code",
   "execution_count": null,
   "id": "8f0c5996",
   "metadata": {},
   "outputs": [],
   "source": [
    "pred['purchaseMedian_MAPE'] = np.abs(pred['purchaseMedian']-df_temp_test['total_purchase_amt'])/df_temp_test['total_purchase_amt']\n",
    "pred['redeemMedian_MAPE'] = np.abs(pred['redeemMedian']-df_temp_test['total_redeem_amt'])/df_temp_test['total_redeem_amt']\n",
    "\n",
    "h = 0.3\n",
    "tmp = sum(pred['redeemMedian_MAPE'].apply(lambda x:np.exp(-x/h))*10) * 0.55 + sum(pred['purchaseMedian_MAPE'].apply(lambda x:np.exp(-x/h))*10) * 0.55"
   ]
  },
  {
   "cell_type": "code",
   "execution_count": null,
   "id": "046e1cd4",
   "metadata": {},
   "outputs": [],
   "source": [
    "for i in pred.columns:\n",
    "    if i == 'date':\n",
    "        pred[i] = pred[i].astype(str)\n",
    "        pred[i] = pred[i].str.replace('-','')"
   ]
  },
  {
   "cell_type": "code",
   "execution_count": null,
   "id": "a6532ade",
   "metadata": {},
   "outputs": [],
   "source": [
    "pred.head()"
   ]
  },
  {
   "cell_type": "code",
   "execution_count": null,
   "id": "5763fadd",
   "metadata": {},
   "outputs": [],
   "source": [
    "# 保存预测结果到本地\n",
    "\n",
    "data = pred[['date','purchaseMedian','redeemMedian']]\n",
    "data.to_csv('../comp_predict_table.csv',index=False,header=None)"
   ]
  }
 ],
 "metadata": {
  "kernelspec": {
   "display_name": "Python 3",
   "language": "python",
   "name": "python3"
  },
  "language_info": {
   "codemirror_mode": {
    "name": "ipython",
    "version": 3
   },
   "file_extension": ".py",
   "mimetype": "text/x-python",
   "name": "python",
   "nbconvert_exporter": "python",
   "pygments_lexer": "ipython3",
   "version": "3.8.8"
  },
  "toc": {
   "base_numbering": 1,
   "nav_menu": {},
   "number_sections": true,
   "sideBar": true,
   "skip_h1_title": false,
   "title_cell": "Table of Contents",
   "title_sidebar": "Contents",
   "toc_cell": false,
   "toc_position": {},
   "toc_section_display": true,
   "toc_window_display": true
  }
 },
 "nbformat": 4,
 "nbformat_minor": 5
}
